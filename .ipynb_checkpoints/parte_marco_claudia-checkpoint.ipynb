{
 "cells": [
  {
   "cell_type": "code",
   "execution_count": null,
   "metadata": {},
   "outputs": [],
   "source": [
    "## import data manipulation packages\n",
    "import pandas as pd\n",
    "import numpy as np\n",
    "from sklearn.neighbors import DistanceMetric\n",
    "from math import radians\n",
    "\n",
    "## import dataset \"medium size\" as variable 'city' and drop NaN\n",
    "cities = pd.read_excel('data/medium_cities.xlsx')\n",
    "ct = cities.dropna(axis = 'rows', how = 'any')\n",
    "## considero solo al di sopra dell'equatore\n",
    "## ct = ct[ct.lat >= 0]"
   ]
  },
  {
   "cell_type": "code",
   "execution_count": null,
   "metadata": {},
   "outputs": [],
   "source": [
    "#add london Start (spostando lievemente la longitudine, così che sia più ad est di London)\n",
    "London_st = ct.loc[(ct['city'] == 'London') & (ct['iso3'] == 'GBR')]\n",
    "London_st['city']='London_st' \n",
    "London_st['lng'] = London_st['lng'] + 0.2"
   ]
  },
  {
   "cell_type": "code",
   "execution_count": null,
   "metadata": {},
   "outputs": [],
   "source": [
    "## attacco la riga London_st al dataframe\n",
    "ct = ct.append(London_st)"
   ]
  },
  {
   "cell_type": "code",
   "execution_count": null,
   "metadata": {},
   "outputs": [],
   "source": [
    "## resetto l'index, che sia progressivo\n",
    "ct = ct.reset_index()"
   ]
  },
  {
   "cell_type": "code",
   "execution_count": null,
   "metadata": {},
   "outputs": [],
   "source": [
    "## concatenate iso2 and city to get unique id\n",
    "ct['ID'] = ct['city'].map(str) + ct['iso2'].map(str)"
   ]
  },
  {
   "cell_type": "code",
   "execution_count": null,
   "metadata": {},
   "outputs": [],
   "source": [
    "## drop not usable columns\n",
    "ct = ct.drop(['city_ascii', 'country', 'iso2', 'admin_name', 'capital', 'id'], axis = 1)"
   ]
  },
  {
   "cell_type": "code",
   "execution_count": null,
   "metadata": {},
   "outputs": [],
   "source": [
    "## droppo la colonna index duplicata\n",
    "ct = ct.drop('index', axis = 1)"
   ]
  },
  {
   "cell_type": "code",
   "execution_count": null,
   "metadata": {
    "scrolled": true
   },
   "outputs": [],
   "source": [
    "# population - dove la popolazione è > di 200,000 abitanti aggiungo peso 2\n",
    "pop = np.where(ct['population'] < 200000 , 0 , 2 )\n",
    "#same state  - dove lo stato è diverso aggiungo peso 2\n",
    "i = ct['iso3'].to_numpy()\n",
    "st = (i[:, None ] != i) * 2"
   ]
  },
  {
   "cell_type": "code",
   "execution_count": null,
   "metadata": {},
   "outputs": [],
   "source": [
    "# direction - lavoro sulla longitudine e prendo le longitudini ad \"est\", normalizzando le long negative aggiungendo 150\n",
    "## forse dobbiamo aggiungere 180? visto che dovrebbe essere su 360 totale?\n",
    "dr_x = np.where(ct['lng']>= 0 , ct['lng'] , (ct['lng'] + 180) + 180)\n",
    "x = dr_x\n",
    "\n",
    "dr= (x[:, None ] < x)*1\n",
    "rang= (x[: , None ] < x+10 )*1"
   ]
  },
  {
   "cell_type": "code",
   "execution_count": null,
   "metadata": {},
   "outputs": [],
   "source": [
    "# metto i giusti indici alle matrici \n",
    "direction = pd.DataFrame(dr*rang.T, columns = ct['ID'], index = ct['ID'])\n",
    "same_state = pd.DataFrame(st, columns = ct['ID'], index = ct['ID'])\n",
    "population = pd.DataFrame(pop , index = ct['ID'])"
   ]
  },
  {
   "cell_type": "code",
   "execution_count": null,
   "metadata": {},
   "outputs": [],
   "source": [
    "direction"
   ]
  },
  {
   "cell_type": "code",
   "execution_count": null,
   "metadata": {},
   "outputs": [],
   "source": [
    "## coversion of coordinated in degrees to radians\n",
    "ct['lat'] = np.radians(ct['lat'])\n",
    "ct['lng'] = np.radians(ct['lng'])"
   ]
  },
  {
   "cell_type": "code",
   "execution_count": null,
   "metadata": {},
   "outputs": [],
   "source": [
    "## get the scipy metrics\n",
    "dist = DistanceMetric.get_metric('haversine')"
   ]
  },
  {
   "cell_type": "code",
   "execution_count": null,
   "metadata": {},
   "outputs": [],
   "source": [
    "## prepare the array to get in input for the distance calculation\n",
    "#non credo che serva \n",
    "\n",
    "#ct[['lat','lng']].to_numpy()"
   ]
  },
  {
   "cell_type": "code",
   "execution_count": null,
   "metadata": {},
   "outputs": [],
   "source": [
    "## pass pairwise function to get the distance / multiply for 6373 as earth sperical radius is 6373kms\n",
    "#dist.pairwise(ct [['lat','lng']].to_numpy())*6373"
   ]
  },
  {
   "cell_type": "code",
   "execution_count": null,
   "metadata": {},
   "outputs": [],
   "source": [
    "#cerchiamo di avere meno dati \n",
    "D = np.where(  direction > 0  , dist.pairwise(ct [['lat','lng']].to_numpy())*6373 , 0   )\n",
    "## create the distance matrix with cities in the indexes\n",
    "distance = pd.DataFrame(D, columns = ct['ID'], index = ct['ID'])"
   ]
  },
  {
   "cell_type": "code",
   "execution_count": null,
   "metadata": {},
   "outputs": [],
   "source": [
    "from pandas import DataFrame\n",
    "from tqdm import tqdm"
   ]
  },
  {
   "cell_type": "code",
   "execution_count": null,
   "metadata": {},
   "outputs": [],
   "source": [
    "tqdm.pandas()"
   ]
  },
  {
   "cell_type": "code",
   "execution_count": null,
   "metadata": {},
   "outputs": [],
   "source": [
    "## popolare per criteri (più vicino +2, secondo più vicino +4, terzo più vicino +8, il resto 'no go')\n",
    "dis = distance.T.replace(0, 0)"
   ]
  },
  {
   "cell_type": "code",
   "execution_count": null,
   "metadata": {},
   "outputs": [],
   "source": [
    "dis.replace(dis.progress_apply(lambda x: x[x > 0].min(axis=0)), 2)"
   ]
  },
  {
   "cell_type": "code",
   "execution_count": null,
   "metadata": {},
   "outputs": [],
   "source": [
    "dis = dis.replace(dis.apply(lambda x: x[x > 2].min(axis=0)), 4)"
   ]
  },
  {
   "cell_type": "code",
   "execution_count": null,
   "metadata": {},
   "outputs": [],
   "source": [
    "dis = dis.replace(dis.apply(lambda x: x[x > 4].min(axis=0)), 8)"
   ]
  },
  {
   "cell_type": "code",
   "execution_count": null,
   "metadata": {},
   "outputs": [],
   "source": [
    "dis = dis.where((dis <= 8), 0) \n",
    "dis"
   ]
  },
  {
   "cell_type": "code",
   "execution_count": null,
   "metadata": {},
   "outputs": [],
   "source": [
    "graph =((dis + same_state + pop.T) * dis/dis)\n",
    "graph = graph.where((graph > 1), 0) \n",
    "    \n",
    "graph"
   ]
  },
  {
   "cell_type": "code",
   "execution_count": null,
   "metadata": {},
   "outputs": [],
   "source": [
    "## un tentativo con networkX (mi prende il peso minore però----)\n",
    "\n",
    "import networkx as nx"
   ]
  },
  {
   "cell_type": "code",
   "execution_count": null,
   "metadata": {},
   "outputs": [],
   "source": [
    "## creo grafo con networkX direzionato da graph cheè matrice di adiacenza non simmetrica\n",
    "D = nx.from_pandas_adjacency(graph, create_using = nx.DiGraph)"
   ]
  },
  {
   "cell_type": "code",
   "execution_count": null,
   "metadata": {},
   "outputs": [],
   "source": [
    "## visualizzo i nodi\n",
    "D.nodes()"
   ]
  },
  {
   "cell_type": "code",
   "execution_count": null,
   "metadata": {},
   "outputs": [],
   "source": [
    "## visualizzo D grafo direzionato\n",
    "nx.draw(D)"
   ]
  },
  {
   "cell_type": "code",
   "execution_count": null,
   "metadata": {},
   "outputs": [],
   "source": [
    "## link all'algoritmo usato\n",
    "## https://networkx.org/documentation/stable/reference/algorithms/generated/networkx.algorithms.shortest_paths.weighted.single_source_dijkstra.html#networkx.algorithms.shortest_paths.weighted.single_source_dijkstra\n",
    "length, path = nx.single_source_dijkstra(D, source = 'London_stGB', target = 'LondonGB')\n",
    "print(length)\n",
    "print(path)"
   ]
  }
 ],
 "metadata": {
  "kernelspec": {
   "display_name": "Python 3",
   "language": "python",
   "name": "python3"
  },
  "language_info": {
   "codemirror_mode": {
    "name": "ipython",
    "version": 3
   },
   "file_extension": ".py",
   "mimetype": "text/x-python",
   "name": "python",
   "nbconvert_exporter": "python",
   "pygments_lexer": "ipython3",
   "version": "3.8.3"
  }
 },
 "nbformat": 4,
 "nbformat_minor": 4
}

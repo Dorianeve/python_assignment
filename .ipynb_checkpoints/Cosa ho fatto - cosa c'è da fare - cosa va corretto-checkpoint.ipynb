{
 "cells": [
  {
   "cell_type": "markdown",
   "metadata": {},
   "source": [
    "# ReadMe - Il giro del mondo in 80 giorni (di Cardinale, Manili, Viganò)"
   ]
  },
  {
   "cell_type": "markdown",
   "metadata": {},
   "source": [
    "Step 1 - Data Cleaning\n",
    "Rimozione NaN, check di duplicati.\n",
    "Creazione di un ID identificabile univoco concatenando \"city\" e \"iso2\"."
   ]
  },
  {
   "cell_type": "markdown",
   "metadata": {},
   "source": [
    "Step 2 - Creazione della matrice di distanze"
   ]
  },
  {
   "cell_type": "markdown",
   "metadata": {},
   "source": [
    "Step 3 - Popolare la matrice con i seguenti criteri:\n",
    "\n",
    "- DA FARE - Popolare solo se la long della città di arrivo è più grande della città di partenza. (Tenere presente la linea di cambio di data). Per colonna prendere le 3 distanze più piccole (2 - 4 - 8)\n",
    "- 0 e tutto il resto \"no go\""
   ]
  },
  {
   "cell_type": "markdown",
   "metadata": {},
   "source": [
    "Step 4 - Popolare la matrice utilizzando la matrice oridinaria. \n",
    "\n",
    "- +2 se la città è in un altro stato\n",
    "- +2 se la città ha più di 200,000 abitanti\n"
   ]
  },
  {
   "cell_type": "markdown",
   "metadata": {},
   "source": [
    "Step 5 - Algoritmo di Dijkstra"
   ]
  }
 ],
 "metadata": {
  "kernelspec": {
   "display_name": "Python 3",
   "language": "python",
   "name": "python3"
  },
  "language_info": {
   "codemirror_mode": {
    "name": "ipython",
    "version": 3
   },
   "file_extension": ".py",
   "mimetype": "text/x-python",
   "name": "python",
   "nbconvert_exporter": "python",
   "pygments_lexer": "ipython3",
   "version": "3.8.3"
  }
 },
 "nbformat": 4,
 "nbformat_minor": 4
}

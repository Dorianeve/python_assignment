{
 "cells": [
  {
   "cell_type": "code",
   "execution_count": null,
   "metadata": {},
   "outputs": [],
   "source": [
    "## import data manipulation packages for data cleaning and distance calculation\n",
    "import pandas as pd\n",
    "import numpy as np\n",
    "from sklearn.neighbors import DistanceMetric\n",
    "from math import radians"
   ]
  },
  {
   "cell_type": "code",
   "execution_count": null,
   "metadata": {},
   "outputs": [],
   "source": [
    "## DATA CLEANING AND PREPARATION\n",
    "## import dataset as variable 'city' and drop NaN\n",
    "cities = pd.read_excel('worldcities.xlsx')\n",
    "ct = cities.dropna(axis = 'rows', how = 'any')"
   ]
  },
  {
   "cell_type": "code",
   "execution_count": null,
   "metadata": {
    "scrolled": false
   },
   "outputs": [],
   "source": [
    "## add london starting point as 'London_st' slights on the right (to facilitate the assignment resolution)\n",
    "London_st = ct.loc[(ct['city'] == 'London') & (ct['iso3'] == 'GBR')]\n",
    "London_st['city']='London_st' \n",
    "London_st['lng'] = London_st['lng'] + 0.2\n",
    "ct = ct.append(London_st)"
   ]
  },
  {
   "cell_type": "code",
   "execution_count": null,
   "metadata": {},
   "outputs": [],
   "source": [
    "## resetting index after append\n",
    "ct = ct.reset_index()"
   ]
  },
  {
   "cell_type": "code",
   "execution_count": null,
   "metadata": {},
   "outputs": [],
   "source": [
    "## concatenate iso2 and city to get unique id\n",
    "ct['ID'] = ct['city'].map(str) + ct['iso2'].map(str)"
   ]
  },
  {
   "cell_type": "code",
   "execution_count": null,
   "metadata": {},
   "outputs": [],
   "source": [
    "## drop not usable columns\n",
    "ct = ct.drop(['city_ascii', 'country', 'iso2', 'admin_name', 'capital'], axis = 1)\n",
    "ct = ct.drop('index', axis = 1)"
   ]
  },
  {
   "cell_type": "code",
   "execution_count": null,
   "metadata": {},
   "outputs": [],
   "source": [
    "## identifying location of 'London_st' to be used later as 'source'\n",
    "source = ct.loc[(ct['city'] == 'London_st')]"
   ]
  },
  {
   "cell_type": "code",
   "execution_count": null,
   "metadata": {},
   "outputs": [],
   "source": [
    "## identifying location of 'London' to be used later as 'target'\n",
    "target = ct.loc[(ct['city'] == 'London') & (ct['iso3'] == 'GBR')]"
   ]
  },
  {
   "cell_type": "code",
   "execution_count": null,
   "metadata": {
    "scrolled": true
   },
   "outputs": [],
   "source": [
    "## GETTING WEIGHTS - part I\n",
    "## population weights '+2', where population > 200000\n",
    "pop = np.where(ct['population'] < 200000 , 0, 2)"
   ]
  },
  {
   "cell_type": "code",
   "execution_count": null,
   "metadata": {},
   "outputs": [],
   "source": [
    "## same state weights '+2', where 'iso3' is different\n",
    "i = ct['iso3'].to_numpy()\n",
    "st = (i[:, None ] != i) * 2"
   ]
  },
  {
   "cell_type": "code",
   "execution_count": null,
   "metadata": {},
   "outputs": [],
   "source": [
    "## GETTING DIRECTION - getting an array comparing longitudes (0 if a city is west the other, 1 if a city is east)\n",
    "## to get all positive longitudes we need to rescale from -180/+180 to 0/360 scale, where London is approx 0\n",
    "dr_x = np.where(ct['lng']>= 0 , ct['lng'] , (ct['lng'] + 180) + 180)\n",
    "x = dr_x\n",
    "dr = (x[:, None] < x) * 1"
   ]
  },
  {
   "cell_type": "code",
   "execution_count": null,
   "metadata": {},
   "outputs": [],
   "source": [
    "## computing big distances (>60 degrees) as a '0' (no go area) to get the final matrix less 'heavy' to be handled\n",
    "rang = (x[: , None] < x + 60 ) * 1"
   ]
  },
  {
   "cell_type": "code",
   "execution_count": null,
   "metadata": {},
   "outputs": [],
   "source": [
    "## QUESTO NON SERVE GIUSTO?\n",
    "## dir_test = pd.DataFrame(dr*rang.T, columns = ct['ID'], index = ct['ID'])\n",
    "## dir_test"
   ]
  },
  {
   "cell_type": "code",
   "execution_count": null,
   "metadata": {},
   "outputs": [],
   "source": [
    "## creating 3 dataframes with direction, same state and population weights\n",
    "direction = pd.DataFrame(dr*rang.T, columns = ct['ID'], index = ct['ID'])\n",
    "same_state = pd.DataFrame(st, columns = ct['ID'], index = ct['ID'])\n",
    "population = pd.DataFrame(pop , index = ct['ID'])"
   ]
  },
  {
   "cell_type": "code",
   "execution_count": null,
   "metadata": {},
   "outputs": [],
   "source": [
    "## DISTANCE COMPUTATION - 'Harvesine'\n",
    "## the earth is spheric, so a specific calculation ('Harvesine distance') is required to get the distance from places\n",
    "ct['lat'] = np.radians(ct['lat'])\n",
    "ct['lng'] = np.radians(ct['lng'])"
   ]
  },
  {
   "cell_type": "code",
   "execution_count": null,
   "metadata": {},
   "outputs": [],
   "source": [
    "## retrieve the 'harvesine' metric from scipy\n",
    "dist = DistanceMetric.get_metric('haversine')"
   ]
  },
  {
   "cell_type": "code",
   "execution_count": null,
   "metadata": {},
   "outputs": [],
   "source": [
    "## calculating the pairwise distance between cities multiplying *6373 to get kms\n",
    "## get a smaller size object by getting distance only if direction is 'east' (value 1 in 'direction' dataframe)\n",
    "D = np.where(direction > 0, dist.pairwise(ct [['lat','lng']].to_numpy())*6373 , 0)\n",
    "## create the distance matrix with cities in the indexes\n",
    "distance = pd.DataFrame(D.T, columns = ct['ID'], index = ct['ID'])"
   ]
  },
  {
   "cell_type": "code",
   "execution_count": null,
   "metadata": {},
   "outputs": [],
   "source": [
    "## view matrix of distance"
   ]
  },
  {
   "cell_type": "code",
   "execution_count": null,
   "metadata": {},
   "outputs": [],
   "source": [
    "## QUESTO NON SERVE GIUSTO?\n",
    "## distance.loc['London_stGB'].sum()"
   ]
  },
  {
   "cell_type": "code",
   "execution_count": null,
   "metadata": {},
   "outputs": [],
   "source": [
    "## secondo me questo è già risolto con import pandas as pd no?\n",
    "## from pandas import DataFrame"
   ]
  },
  {
   "cell_type": "code",
   "execution_count": null,
   "metadata": {},
   "outputs": [],
   "source": [
    "## GETTING WEIGHTS - part II\n",
    "## utilising the matrix of distance called 'distance' (which contains already directions)\n",
    "## populate 'dis' with weights: '+2' if closest, '4' if second closest, '8' if third closest\n",
    "## the rest of distances as '0', meaning 'no go'\n",
    "dis = distance.T.replace(0, 0)\n",
    "dis = dis.replace(dis.apply(lambda x: x[x > 0].min(axis=0)), 2)\n",
    "dis = dis.replace(dis.apply(lambda x: x[x > 2].min(axis=0)), 4)\n",
    "dis = dis.replace(dis.apply(lambda x: x[x > 4].min(axis=0)), 8)\n",
    "dis = dis.where((dis <= 8), 0) \n",
    "dis"
   ]
  },
  {
   "cell_type": "code",
   "execution_count": null,
   "metadata": {},
   "outputs": [],
   "source": [
    "## SUMMING THE TOTAL WEIGHTS\n",
    "## sum of dataframes: 'dis', 'same_state' and 'population' to get final weights\n",
    "graph =((dis + same_state + pop.T) * dis / dis)\n",
    "graph = graph.where((graph > 1), 0) \n",
    "graph"
   ]
  },
  {
   "cell_type": "code",
   "execution_count": null,
   "metadata": {},
   "outputs": [],
   "source": [
    "## preparation of final dataframe as array for 'NetworkX' \n",
    "gr_array = np.array(graph)\n",
    "gr_array"
   ]
  },
  {
   "cell_type": "code",
   "execution_count": null,
   "metadata": {},
   "outputs": [],
   "source": [
    "## SHORTEST PATH ALGORITHM aka Dijkstra's algorithm\n",
    "## import NetworkX\n",
    "import networkx as nx"
   ]
  },
  {
   "cell_type": "code",
   "execution_count": null,
   "metadata": {},
   "outputs": [],
   "source": [
    "## convert the numpy array to GRAPH data structure, with has nodes (cities) and edges (weights between nodes)\n",
    "## zeros are not taken into account, so the direction is taken into account in the built array\n",
    "GR = nx.from_numpy_array(gr_array)"
   ]
  },
  {
   "cell_type": "code",
   "execution_count": null,
   "metadata": {},
   "outputs": [],
   "source": [
    "## edges visualization (optional)\n",
    "GR.edges(data=True)"
   ]
  },
  {
   "cell_type": "code",
   "execution_count": null,
   "metadata": {},
   "outputs": [],
   "source": [
    "## nodes visualization (optional)\n",
    "GR.nodes()"
   ]
  },
  {
   "cell_type": "code",
   "execution_count": null,
   "metadata": {},
   "outputs": [],
   "source": [
    "## retrieve location of 'London_st' as source and 'London' as origin\n",
    "print(source)\n",
    "print(target)"
   ]
  },
  {
   "cell_type": "code",
   "execution_count": null,
   "metadata": {},
   "outputs": [],
   "source": [
    "## using networkx.single_source_dijkstra()\n",
    "## the command computes shortest paths and lengths in a weighted graph G\n",
    "## it returns a tuple containing the 'length' of the shortest path, and the 'path' itself\n",
    "length, path = nx.single_source_dijkstra(GR, 6622, 31)\n",
    "print(length, path)"
   ]
  },
  {
   "cell_type": "code",
   "execution_count": null,
   "metadata": {},
   "outputs": [],
   "source": [
    "## get the names of the 'path' retrieving from 'ct' original object\n",
    "ct.loc[path, 'city']"
   ]
  },
  {
   "cell_type": "code",
   "execution_count": null,
   "metadata": {},
   "outputs": [],
   "source": [
    "## quanti giorni per fare il giro del mondo?\n",
    "days_to_london = length * 0.041667\n",
    "days_to_london"
   ]
  },
  {
   "cell_type": "code",
   "execution_count": null,
   "metadata": {},
   "outputs": [],
   "source": [
    "## draw the graph (drop if too long to compute)\n",
    "##nx.draw(GR)"
   ]
  },
  {
   "cell_type": "code",
   "execution_count": null,
   "metadata": {},
   "outputs": [],
   "source": [
    "##carica i dati del percorso ottimo in un dataframe\n",
    "percorso=ct.loc[path]"
   ]
  },
  {
   "cell_type": "code",
   "execution_count": null,
   "metadata": {},
   "outputs": [],
   "source": [
    "##ricavo lista di \"id\" per filtrare il dataframe orignale con le città (per i dati di lon e lat)\n",
    "filtro = percorso['id'].tolist()"
   ]
  },
  {
   "cell_type": "code",
   "execution_count": null,
   "metadata": {},
   "outputs": [],
   "source": [
    "##crea dataframe con i dati origari di \"cities\" per le città che compongono il percorso ottimo \n",
    "città= cities[cities['id'].isin(filtro)]"
   ]
  },
  {
   "cell_type": "code",
   "execution_count": null,
   "metadata": {},
   "outputs": [],
   "source": [
    "##imposta la colonna \"id\" come indice\n",
    "città = città.set_index('id')"
   ]
  },
  {
   "cell_type": "code",
   "execution_count": null,
   "metadata": {},
   "outputs": [],
   "source": [
    "##ordina per gli \"id\" del filtro (quelli del percorso ottimo in ordine)\n",
    "città_def=città.loc[filtro]"
   ]
  },
  {
   "cell_type": "code",
   "execution_count": null,
   "metadata": {},
   "outputs": [],
   "source": [
    "##sostituisce in \"città_def\" il nome della città di partenza con \"London_st\"\n",
    "città_def.iloc[0,0]='London_St' "
   ]
  },
  {
   "cell_type": "code",
   "execution_count": null,
   "metadata": {},
   "outputs": [],
   "source": [
    "##sostituisce la coordinata di longitudine della città di partenza con quella leggermente spostata per far partire il percorso\n",
    "città_def.iloc[0,3]='0.0725'"
   ]
  },
  {
   "cell_type": "code",
   "execution_count": null,
   "metadata": {},
   "outputs": [],
   "source": [
    "#import delle librerie per i grafici\n",
    "import matplotlib.pyplot as plt\n",
    "import plotly.graph_objects as go"
   ]
  },
  {
   "cell_type": "code",
   "execution_count": null,
   "metadata": {},
   "outputs": [],
   "source": [
    "##crea il primo grafico con le traiettorie tra le città sulla base della mappa mondiale\n",
    "fig = go.Figure(data=go.Scattergeo(\n",
    "    lat = città_def['lat'],\n",
    "    lon =città_def['lng'],\n",
    "    mode = 'lines',\n",
    "    line = dict(width = 1, color = 'blue'),))"
   ]
  },
  {
   "cell_type": "code",
   "execution_count": null,
   "metadata": {},
   "outputs": [],
   "source": [
    "##aggiorna il grafico aggiungendo i marker per le città visitate con nome della città se selezionate con mouse, titolo e varia la tipologia di mappa sullo sfondo\n",
    "fig.add_trace(go.Scattergeo(\n",
    "    locationmode = 'country names',\n",
    "    lon = città_def['lng'],\n",
    "    lat = città_def['lat'],\n",
    "    hoverinfo = 'text',\n",
    "    text = città_def['city'],\n",
    "    name = \"Cities\",\n",
    "    mode = 'markers',\n",
    "    marker = dict(\n",
    "        size = 4,\n",
    "        color = 'rgb(102,102,102)',\n",
    "        line = dict(\n",
    "            width = 4,\n",
    "            color = 'rgba(68, 68, 68, 0)'\n",
    "        )\n",
    "    )))\n",
    "fig.update_geos(projection_type=\"natural earth\")\n",
    "fig.update_layout(title_text='Shortest Path Around the World')\n",
    "fig.show()"
   ]
  }
 ],
 "metadata": {
  "kernelspec": {
   "display_name": "Python 3",
   "language": "python",
   "name": "python3"
  },
  "language_info": {
   "codemirror_mode": {
    "name": "ipython",
    "version": 3
   },
   "file_extension": ".py",
   "mimetype": "text/x-python",
   "name": "python",
   "nbconvert_exporter": "python",
   "pygments_lexer": "ipython3",
   "version": "3.8.5"
  }
 },
 "nbformat": 4,
 "nbformat_minor": 4
}

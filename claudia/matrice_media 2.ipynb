{
 "cells": [
  {
   "cell_type": "code",
   "execution_count": 1,
   "metadata": {},
   "outputs": [],
   "source": [
    "## import data manipulation packages\n",
    "import pandas as pd\n",
    "import numpy as np\n",
    "from sklearn.neighbors import DistanceMetric\n",
    "from math import radians\n",
    "\n",
    "## import dataset \"medium size\" as variable 'city' and drop NaN\n",
    "cities = pd.read_excel('data/worldcities.xlsx')\n",
    "ct = cities.dropna(axis = 'rows', how = 'any')\n",
    "## considero solo al di sopra dell'equatore\n",
    "## ct = ct[ct.lat >= 0]"
   ]
  },
  {
   "cell_type": "code",
   "execution_count": 2,
   "metadata": {},
   "outputs": [],
   "source": [
    "#add london Start (spostando lievemente la longitudine, così che sia più ad est di London)\n",
    "#London_st = ct.loc[(ct['city'] == 'London') & (ct['iso3'] == 'GBR')]\n",
    "#London_st['city']='London_st' \n",
    "#London_st['lng'] = London_st['lng'] + 0.2"
   ]
  },
  {
   "cell_type": "code",
   "execution_count": 3,
   "metadata": {},
   "outputs": [],
   "source": [
    "## attacco la riga London_st al dataframe\n",
    "#ct = ct.append(London_st)"
   ]
  },
  {
   "cell_type": "code",
   "execution_count": 4,
   "metadata": {},
   "outputs": [
    {
     "name": "stdout",
     "output_type": "stream",
     "text": [
      "      index          city    city_ascii      lat       lng      country iso2  \\\n",
      "0         0         Tokyo         Tokyo  35.6897  139.6922        Japan   JP   \n",
      "1         1       Jakarta       Jakarta  -6.2146  106.8451    Indonesia   ID   \n",
      "2         2         Delhi         Delhi  28.6600   77.2300        India   IN   \n",
      "3         3        Mumbai        Mumbai  18.9667   72.8333        India   IN   \n",
      "4         4        Manila        Manila  14.5958  120.9772  Philippines   PH   \n",
      "...     ...           ...           ...      ...       ...          ...  ...   \n",
      "6617  26058      Greytown      Greytown  10.9167  -83.7000    Nicaragua   NI   \n",
      "6618  26061        Sayḩūt        Sayhut  15.2105   51.2454        Yemen   YE   \n",
      "6619  26062    Río Cuarto    Rio Cuarto -33.1230  -64.3478    Argentina   AR   \n",
      "6620  26063  La Esmeralda  La Esmeralda   3.1738  -65.5466    Venezuela   VE   \n",
      "6621  26073       Hödrögö       Hodrogo  48.9664   96.7833     Mongolia   MN   \n",
      "\n",
      "     iso3    admin_name  capital    population          id  \n",
      "0     JPN         Tōkyō  primary  3.797700e+07  1392685764  \n",
      "1     IDN       Jakarta  primary  3.454000e+07  1360771077  \n",
      "2     IND         Delhi    admin  2.961700e+07  1356872604  \n",
      "3     IND   Mahārāshtra    admin  2.335500e+07  1356226629  \n",
      "4     PHL        Manila  primary  2.308800e+07  1608618140  \n",
      "...   ...           ...      ...           ...         ...  \n",
      "6617  NIC  Río San Juan    minor  2.750000e+02  1558125707  \n",
      "6618  YEM     Al Mahrah    minor  1.890000e+02  1887613470  \n",
      "6619  ARG       Córdoba    minor  1.582980e+02  1032552145  \n",
      "6620  VEN      Amazonas    minor  1.500000e+02  1862255876  \n",
      "6621  MNG       Dzavhan    minor  1.000000e+01  1496403046  \n",
      "\n",
      "[6622 rows x 12 columns]\n"
     ]
    }
   ],
   "source": [
    "## resetto l'index, che sia progressivo\n",
    "ct = ct.reset_index()\n",
    "print(ct)"
   ]
  },
  {
   "cell_type": "code",
   "execution_count": 5,
   "metadata": {},
   "outputs": [],
   "source": [
    "## concatenate iso2 and city to get unique id\n",
    "ct['ID'] = ct['city'].map(str) + ct['iso2'].map(str)"
   ]
  },
  {
   "cell_type": "code",
   "execution_count": 6,
   "metadata": {},
   "outputs": [],
   "source": [
    "## drop not usable columns\n",
    "ct = ct.drop(['city_ascii', 'country', 'iso2', 'admin_name', 'capital', 'id'], axis = 1)"
   ]
  },
  {
   "cell_type": "code",
   "execution_count": 7,
   "metadata": {},
   "outputs": [],
   "source": [
    "## droppo la colonna index duplicata\n",
    "ct = ct.drop('index', axis = 1)"
   ]
  },
  {
   "cell_type": "code",
   "execution_count": 8,
   "metadata": {
    "scrolled": true
   },
   "outputs": [],
   "source": [
    "# population - dove la popolazione è > di 200,000 abitanti aggiungo peso 2\n",
    "pop = np.where(ct['population'] < 200000 , 0 , 2 )\n",
    "#same state  - dove lo stato è diverso aggiungo peso 2\n",
    "i = ct['iso3'].to_numpy()\n",
    "st = (i[:, None ] != i) * 2"
   ]
  },
  {
   "cell_type": "code",
   "execution_count": 9,
   "metadata": {},
   "outputs": [
    {
     "name": "stdout",
     "output_type": "stream",
     "text": [
      "[[0 2 2 ... 2 2 2]\n",
      " [2 0 2 ... 2 2 2]\n",
      " [2 2 0 ... 2 2 2]\n",
      " ...\n",
      " [2 2 2 ... 0 2 2]\n",
      " [2 2 2 ... 2 0 2]\n",
      " [2 2 2 ... 2 2 0]]\n"
     ]
    }
   ],
   "source": [
    "print(st)"
   ]
  },
  {
   "cell_type": "code",
   "execution_count": 10,
   "metadata": {},
   "outputs": [],
   "source": [
    "# direction - lavoro sulla longitudine e prendo le longitudini ad \"est\", normalizzando le long negative aggiungendo 150\n",
    "## forse dobbiamo aggiungere 180? visto che dovrebbe essere su 360 totale?\n",
    "\n",
    "dr_x = np.where(ct['lng']>= 0 , ct['lng'] , (ct['lng'] + 180) + 180)\n",
    "x = dr_x\n",
    "drdf = (x[:, None ] < x)*1"
   ]
  },
  {
   "cell_type": "code",
   "execution_count": 11,
   "metadata": {},
   "outputs": [
    {
     "name": "stdout",
     "output_type": "stream",
     "text": [
      "[139.6922 106.8451  77.23   ... 295.6522 294.4534  96.7833]\n"
     ]
    }
   ],
   "source": [
    "print(x)"
   ]
  },
  {
   "cell_type": "code",
   "execution_count": 12,
   "metadata": {},
   "outputs": [],
   "source": [
    "# metto i giusti indici alle matrici \n",
    "direction = pd.DataFrame(drdf, columns = ct['ID'], index = ct['ID'])\n",
    "same_state = pd.DataFrame(st, columns = ct['ID'], index = ct['ID'])\n",
    "population = pd.DataFrame(pop , index = ct['ID'])"
   ]
  },
  {
   "cell_type": "code",
   "execution_count": 13,
   "metadata": {},
   "outputs": [
    {
     "name": "stdout",
     "output_type": "stream",
     "text": [
      "ID              TokyoJP  JakartaID  DelhiIN  MumbaiIN  ManilaPH  ShanghaiCN  \\\n",
      "ID                                                                            \n",
      "TokyoJP               0          0        0         0         0           0   \n",
      "JakartaID             1          0        0         0         1           1   \n",
      "DelhiIN               1          1        0         0         1           1   \n",
      "MumbaiIN              1          1        1         0         1           1   \n",
      "ManilaPH              1          0        0         0         0           1   \n",
      "...                 ...        ...      ...       ...       ...         ...   \n",
      "GreytownNI            0          0        0         0         0           0   \n",
      "SayḩūtYE              1          1        1         1         1           1   \n",
      "Río CuartoAR          0          0        0         0         0           0   \n",
      "La EsmeraldaVE        0          0        0         0         0           0   \n",
      "HödrögöMN             1          1        0         0         1           1   \n",
      "\n",
      "ID              São PauloBR  SeoulKR  Mexico CityMX  GuangzhouCN  ...  \\\n",
      "ID                                                                ...   \n",
      "TokyoJP                   1        0              1            0  ...   \n",
      "JakartaID                 1        1              1            1  ...   \n",
      "DelhiIN                   1        1              1            1  ...   \n",
      "MumbaiIN                  1        1              1            1  ...   \n",
      "ManilaPH                  1        1              1            0  ...   \n",
      "...                     ...      ...            ...          ...  ...   \n",
      "GreytownNI                1        0              0            0  ...   \n",
      "SayḩūtYE                  1        1              1            1  ...   \n",
      "Río CuartoAR              1        0              0            0  ...   \n",
      "La EsmeraldaVE            1        0              0            0  ...   \n",
      "HödrögöMN                 1        1              1            1  ...   \n",
      "\n",
      "ID              LinxiCN  RodeoAR  GastreAR  TinogastaAR  TelsenAR  GreytownNI  \\\n",
      "ID                                                                              \n",
      "TokyoJP               0        1         1            1         1           1   \n",
      "JakartaID             1        1         1            1         1           1   \n",
      "DelhiIN               1        1         1            1         1           1   \n",
      "MumbaiIN              1        1         1            1         1           1   \n",
      "ManilaPH              0        1         1            1         1           1   \n",
      "...                 ...      ...       ...          ...       ...         ...   \n",
      "GreytownNI            0        1         1            1         1           0   \n",
      "SayḩūtYE              1        1         1            1         1           1   \n",
      "Río CuartoAR          0        0         0            0         0           0   \n",
      "La EsmeraldaVE        0        0         0            0         0           0   \n",
      "HödrögöMN             1        1         1            1         1           1   \n",
      "\n",
      "ID              SayḩūtYE  Río CuartoAR  La EsmeraldaVE  HödrögöMN  \n",
      "ID                                                                 \n",
      "TokyoJP                0             1               1          0  \n",
      "JakartaID              0             1               1          0  \n",
      "DelhiIN                0             1               1          1  \n",
      "MumbaiIN               0             1               1          1  \n",
      "ManilaPH               0             1               1          0  \n",
      "...                  ...           ...             ...        ...  \n",
      "GreytownNI             0             1               1          0  \n",
      "SayḩūtYE               0             1               1          1  \n",
      "Río CuartoAR           0             0               0          0  \n",
      "La EsmeraldaVE         0             1               0          0  \n",
      "HödrögöMN              0             1               1          0  \n",
      "\n",
      "[6622 rows x 6622 columns]\n"
     ]
    }
   ],
   "source": [
    "print(direction)"
   ]
  },
  {
   "cell_type": "code",
   "execution_count": 14,
   "metadata": {},
   "outputs": [],
   "source": [
    "## coversion of coordinated in degrees to radians\n",
    "ct['lat'] = np.radians(ct['lat'])\n",
    "ct['lng'] = np.radians(ct['lng'])"
   ]
  },
  {
   "cell_type": "code",
   "execution_count": 15,
   "metadata": {},
   "outputs": [],
   "source": [
    "## get the scipy metrics\n",
    "dist = DistanceMetric.get_metric('haversine')"
   ]
  },
  {
   "cell_type": "code",
   "execution_count": 16,
   "metadata": {},
   "outputs": [
    {
     "data": {
      "text/plain": [
       "array([[ 0.62290277,  2.43808883],\n",
       "       [-0.10846523,  1.86479878],\n",
       "       [ 0.50021136,  1.34791778],\n",
       "       ...,\n",
       "       [-0.57810541, -1.12308098],\n",
       "       [ 0.05539326, -1.14400398],\n",
       "       [ 0.8546249 ,  1.68918725]])"
      ]
     },
     "execution_count": 16,
     "metadata": {},
     "output_type": "execute_result"
    }
   ],
   "source": [
    "## prepare the array to get in input for the distance calculation\n",
    "ct[['lat','lng']].to_numpy()"
   ]
  },
  {
   "cell_type": "code",
   "execution_count": 17,
   "metadata": {},
   "outputs": [
    {
     "data": {
      "text/plain": [
       "array([[    0.        ,  5787.90376514,  5835.24850156, ...,\n",
       "        17802.44164785, 14963.27221178,  3763.88990049],\n",
       "       [ 5787.90376514,     0.        ,  5011.26756513, ...,\n",
       "        15548.07263324, 19112.74637668,  6215.36837225],\n",
       "       [ 5835.24850156,  5011.26756513,     0.        , ...,\n",
       "        16340.95395707, 14699.22965152,  2805.95968927],\n",
       "       ...,\n",
       "       [17802.44164785, 15548.07263324, 16340.95395707, ...,\n",
       "            0.        ,  4039.25704802, 17665.78252814],\n",
       "       [14963.27221178, 19112.74637668, 14699.22965152, ...,\n",
       "         4039.25704802,     0.        , 13975.81579146],\n",
       "       [ 3763.88990049,  6215.36837225,  2805.95968927, ...,\n",
       "        17665.78252814, 13975.81579146,     0.        ]])"
      ]
     },
     "execution_count": 17,
     "metadata": {},
     "output_type": "execute_result"
    }
   ],
   "source": [
    "## pass pairwise function to get the distance / multiply for 6373 as earth sperical radius is 6373kms\n",
    "dist.pairwise(ct [['lat','lng']].to_numpy())*6373"
   ]
  },
  {
   "cell_type": "code",
   "execution_count": 18,
   "metadata": {
    "scrolled": false
   },
   "outputs": [],
   "source": [
    "## create the distance matrix with cities in the indexes\n",
    "distance = pd.DataFrame(dist.pairwise(ct[['lat','lng']].to_numpy())*6373, columns = ct['ID'], index = ct['ID'])"
   ]
  },
  {
   "cell_type": "code",
   "execution_count": 19,
   "metadata": {},
   "outputs": [
    {
     "data": {
      "text/html": [
       "<div>\n",
       "<style scoped>\n",
       "    .dataframe tbody tr th:only-of-type {\n",
       "        vertical-align: middle;\n",
       "    }\n",
       "\n",
       "    .dataframe tbody tr th {\n",
       "        vertical-align: top;\n",
       "    }\n",
       "\n",
       "    .dataframe thead th {\n",
       "        text-align: right;\n",
       "    }\n",
       "</style>\n",
       "<table border=\"1\" class=\"dataframe\">\n",
       "  <thead>\n",
       "    <tr style=\"text-align: right;\">\n",
       "      <th></th>\n",
       "      <th>city</th>\n",
       "      <th>lat</th>\n",
       "      <th>lng</th>\n",
       "      <th>iso3</th>\n",
       "      <th>population</th>\n",
       "      <th>ID</th>\n",
       "    </tr>\n",
       "  </thead>\n",
       "  <tbody>\n",
       "    <tr>\n",
       "      <th>31</th>\n",
       "      <td>London</td>\n",
       "      <td>0.89897</td>\n",
       "      <td>-0.002225</td>\n",
       "      <td>GBR</td>\n",
       "      <td>10979000.0</td>\n",
       "      <td>LondonGB</td>\n",
       "    </tr>\n",
       "  </tbody>\n",
       "</table>\n",
       "</div>"
      ],
      "text/plain": [
       "      city      lat       lng iso3  population        ID\n",
       "31  London  0.89897 -0.002225  GBR  10979000.0  LondonGB"
      ]
     },
     "execution_count": 19,
     "metadata": {},
     "output_type": "execute_result"
    }
   ],
   "source": [
    "## identify 'London' ID arrival (se dovesse servire come indice)\n",
    "ct.loc[(ct['city'] == 'London') & (ct['iso3'] == 'GBR')]"
   ]
  },
  {
   "cell_type": "code",
   "execution_count": 20,
   "metadata": {},
   "outputs": [],
   "source": [
    "## identify 'London_st' ID start (se dovesse servire come indice)\n",
    "#ct.loc[(ct['city'] == 'London_st')]"
   ]
  },
  {
   "cell_type": "code",
   "execution_count": 21,
   "metadata": {},
   "outputs": [],
   "source": [
    "## get starting line from distance matrix\n",
    "#distance.loc[['London_stGB']]"
   ]
  },
  {
   "cell_type": "code",
   "execution_count": 22,
   "metadata": {},
   "outputs": [],
   "source": [
    "from pandas import DataFrame"
   ]
  },
  {
   "cell_type": "code",
   "execution_count": 23,
   "metadata": {},
   "outputs": [
    {
     "name": "stdout",
     "output_type": "stream",
     "text": [
      "ID                  TokyoJP    JakartaID      DelhiIN     MumbaiIN  \\\n",
      "ID                                                                   \n",
      "TokyoJP            0.000000     0.000000     0.000000     0.000000   \n",
      "JakartaID       5787.903765     0.000000     0.000000     0.000000   \n",
      "DelhiIN         5835.248502  5011.267565     0.000000     0.000000   \n",
      "MumbaiIN        6736.368099  4662.287622  1166.997459     0.000000   \n",
      "ManilaPH        2997.194340     0.000000     0.000000     0.000000   \n",
      "...                     ...          ...          ...          ...   \n",
      "GreytownNI         0.000000     0.000000     0.000000     0.000000   \n",
      "SayḩūtYE        8894.127127  6573.440879  3059.249501  2331.235749   \n",
      "Río CuartoAR       0.000000     0.000000     0.000000     0.000000   \n",
      "La EsmeraldaVE     0.000000     0.000000     0.000000     0.000000   \n",
      "HödrögöMN       3763.889900  6215.368372     0.000000     0.000000   \n",
      "\n",
      "ID                 ManilaPH   ShanghaiCN   São PauloBR      SeoulKR  \\\n",
      "ID                                                                    \n",
      "TokyoJP            0.000000     0.000000  18539.985246     0.000000   \n",
      "JakartaID       2790.717691  4439.073727  15633.270814  5301.084998   \n",
      "DelhiIN         4755.337989  4245.899648  14435.543331  4686.015643   \n",
      "MumbaiIN        5135.012933  5042.317116  13770.532326  5609.664945   \n",
      "ManilaPH           0.000000  1843.853592  18383.444025  2625.115302   \n",
      "...                     ...          ...           ...          ...   \n",
      "GreytownNI         0.000000     0.000000   5563.271005     0.000000   \n",
      "SayḩūtYE        7460.176624  7282.103396  11464.162754  7744.151917   \n",
      "Río CuartoAR       0.000000     0.000000   2030.431310     0.000000   \n",
      "La EsmeraldaVE     0.000000     0.000000   3610.505927     0.000000   \n",
      "HödrögöMN       4413.827801  2862.618398  15760.015648  2730.044397   \n",
      "\n",
      "ID              Mexico CityMX  GuangzhouCN  ...      LinxiCN       RodeoAR  \\\n",
      "ID                                          ...                              \n",
      "TokyoJP          11309.380364     0.000000  ...     0.000000  17272.893271   \n",
      "JakartaID        16850.822244  3337.523542  ...  5645.229680  15946.673838   \n",
      "DelhiIN          14657.705599  3643.361387  ...  3972.745472  16770.842645   \n",
      "MumbaiIN         15661.132639  4209.001394  ...  5005.989974  15998.649484   \n",
      "ManilaPH         14224.913173     0.000000  ...     0.000000  17998.910975   \n",
      "...                       ...          ...  ...          ...           ...   \n",
      "GreytownNI           0.000000     0.000000  ...     0.000000   4833.230618   \n",
      "SayḩūtYE         14986.079036  6529.451719  ...  6989.801779  13751.270848   \n",
      "Río CuartoAR         0.000000     0.000000  ...     0.000000      0.000000   \n",
      "La EsmeraldaVE       0.000000     0.000000  ...     0.000000      0.000000   \n",
      "HödrögöMN        12251.390567  3217.453293  ...  1736.399855  17620.770795   \n",
      "\n",
      "ID                  GastreAR   TinogastaAR      TelsenAR    GreytownNI  \\\n",
      "ID                                                                       \n",
      "TokyoJP         17430.953191  17321.114190  17613.785448  13121.910379   \n",
      "JakartaID       14614.032317  16161.358668  14579.375842  18749.404488   \n",
      "DelhiIN         16655.367194  16587.745120  16471.800907  15165.430715   \n",
      "MumbaiIN        15616.162791  15877.068183  15439.602639  15817.752584   \n",
      "ManilaPH        16791.832158  18282.629698  16838.453684  16090.269529   \n",
      "...                      ...           ...           ...           ...   \n",
      "GreytownNI       6097.489802   4671.061599   6169.805705      0.000000   \n",
      "SayḩūtYE        13634.637399  13599.297568  13448.344756  14269.835575   \n",
      "Río CuartoAR        0.000000      0.000000      0.000000      0.000000   \n",
      "La EsmeraldaVE      0.000000      0.000000      0.000000      0.000000   \n",
      "HödrögöMN       18704.898913  17339.096845  18564.771556  13360.413795   \n",
      "\n",
      "ID              SayḩūtYE  Río CuartoAR  La EsmeraldaVE    HödrögöMN  \n",
      "ID                                                                   \n",
      "TokyoJP              0.0  17802.441648    14963.272212     0.000000  \n",
      "JakartaID            0.0  15548.072633    19112.746377     0.000000  \n",
      "DelhiIN              0.0  16340.953957    14699.229652  2805.959689  \n",
      "MumbaiIN             0.0  15498.485119    14845.181740  3965.565663  \n",
      "ManilaPH             0.0  17891.554956    17918.131316     0.000000  \n",
      "...                  ...           ...             ...          ...  \n",
      "GreytownNI           0.0   5310.978147     2179.599062     0.000000  \n",
      "SayḩūtYE             0.0  13292.341403    12771.412015  5571.045771  \n",
      "Río CuartoAR         0.0      0.000000        0.000000     0.000000  \n",
      "La EsmeraldaVE       0.0   4039.257048        0.000000     0.000000  \n",
      "HödrögöMN            0.0  17665.782528    13975.815791     0.000000  \n",
      "\n",
      "[6622 rows x 6622 columns]\n"
     ]
    }
   ],
   "source": [
    "#create the graph \n",
    "graph = pd.DataFrame(np.zeros(shape=(len(ct),len(ct))) , columns = ct['ID'], index = ct['ID'])\n",
    "\n",
    "## azzero tutti le combinazioni che non siano verso ovest\n",
    "for i in distance :\n",
    "    graph[i] = distance[i]*direction[i]\n",
    "    \n",
    "print(graph)"
   ]
  },
  {
   "cell_type": "code",
   "execution_count": 24,
   "metadata": {},
   "outputs": [
    {
     "name": "stdout",
     "output_type": "stream",
     "text": [
      "ID                  TokyoJP    JakartaID      DelhiIN     MumbaiIN  \\\n",
      "ID                                                                   \n",
      "TokyoJP            0.000000     0.000000     0.000000     0.000000   \n",
      "JakartaID       5787.903765     0.000000     0.000000     0.000000   \n",
      "DelhiIN         5835.248502  5011.267565     0.000000     0.000000   \n",
      "MumbaiIN        6736.368099  4662.287622  1166.997459     0.000000   \n",
      "ManilaPH        2997.194340     0.000000     0.000000     0.000000   \n",
      "...                     ...          ...          ...          ...   \n",
      "GreytownNI         0.000000     0.000000     0.000000     0.000000   \n",
      "SayḩūtYE        8894.127127  6573.440879  3059.249501  2331.235749   \n",
      "Río CuartoAR       0.000000     0.000000     0.000000     0.000000   \n",
      "La EsmeraldaVE     0.000000     0.000000     0.000000     0.000000   \n",
      "HödrögöMN       3763.889900  6215.368372     0.000000     0.000000   \n",
      "\n",
      "ID                 ManilaPH   ShanghaiCN   São PauloBR      SeoulKR  \\\n",
      "ID                                                                    \n",
      "TokyoJP            0.000000     0.000000  18539.985246     0.000000   \n",
      "JakartaID       2790.717691  4439.073727  15633.270814  5301.084998   \n",
      "DelhiIN         4755.337989  4245.899648  14435.543331  4686.015643   \n",
      "MumbaiIN        5135.012933  5042.317116  13770.532326  5609.664945   \n",
      "ManilaPH           0.000000  1843.853592  18383.444025  2625.115302   \n",
      "...                     ...          ...           ...          ...   \n",
      "GreytownNI         0.000000     0.000000   5563.271005     0.000000   \n",
      "SayḩūtYE        7460.176624  7282.103396  11464.162754  7744.151917   \n",
      "Río CuartoAR       0.000000     0.000000   2030.431310     0.000000   \n",
      "La EsmeraldaVE     0.000000     0.000000   3610.505927     0.000000   \n",
      "HödrögöMN       4413.827801  2862.618398  15760.015648  2730.044397   \n",
      "\n",
      "ID              Mexico CityMX  GuangzhouCN  ...      LinxiCN       RodeoAR  \\\n",
      "ID                                          ...                              \n",
      "TokyoJP          11309.380364     0.000000  ...     0.000000  17272.893271   \n",
      "JakartaID        16850.822244  3337.523542  ...  5645.229680  15946.673838   \n",
      "DelhiIN          14657.705599  3643.361387  ...  3972.745472  16770.842645   \n",
      "MumbaiIN         15661.132639  4209.001394  ...  5005.989974  15998.649484   \n",
      "ManilaPH         14224.913173     0.000000  ...     0.000000  17998.910975   \n",
      "...                       ...          ...  ...          ...           ...   \n",
      "GreytownNI           0.000000     0.000000  ...     0.000000   4833.230618   \n",
      "SayḩūtYE         14986.079036  6529.451719  ...  6989.801779  13751.270848   \n",
      "Río CuartoAR         0.000000     0.000000  ...     0.000000      0.000000   \n",
      "La EsmeraldaVE       0.000000     0.000000  ...     0.000000      0.000000   \n",
      "HödrögöMN        12251.390567  3217.453293  ...  1736.399855  17620.770795   \n",
      "\n",
      "ID                  GastreAR   TinogastaAR      TelsenAR    GreytownNI  \\\n",
      "ID                                                                       \n",
      "TokyoJP         17430.953191  17321.114190  17613.785448  13121.910379   \n",
      "JakartaID       14614.032317  16161.358668  14579.375842  18749.404488   \n",
      "DelhiIN         16655.367194  16587.745120  16471.800907  15165.430715   \n",
      "MumbaiIN        15616.162791  15877.068183  15439.602639  15817.752584   \n",
      "ManilaPH        16791.832158  18282.629698  16838.453684  16090.269529   \n",
      "...                      ...           ...           ...           ...   \n",
      "GreytownNI       6097.489802   4671.061599   6169.805705      0.000000   \n",
      "SayḩūtYE        13634.637399  13599.297568  13448.344756  14269.835575   \n",
      "Río CuartoAR        0.000000      0.000000      0.000000      0.000000   \n",
      "La EsmeraldaVE      0.000000      0.000000      0.000000      0.000000   \n",
      "HödrögöMN       18704.898913  17339.096845  18564.771556  13360.413795   \n",
      "\n",
      "ID              SayḩūtYE  Río CuartoAR  La EsmeraldaVE    HödrögöMN  \n",
      "ID                                                                   \n",
      "TokyoJP              0.0  17802.441648    14963.272212     0.000000  \n",
      "JakartaID            0.0  15548.072633    19112.746377     0.000000  \n",
      "DelhiIN              0.0  16340.953957    14699.229652  2805.959689  \n",
      "MumbaiIN             0.0  15498.485119    14845.181740  3965.565663  \n",
      "ManilaPH             0.0  17891.554956    17918.131316     0.000000  \n",
      "...                  ...           ...             ...          ...  \n",
      "GreytownNI           0.0   5310.978147     2179.599062     0.000000  \n",
      "SayḩūtYE             0.0  13292.341403    12771.412015  5571.045771  \n",
      "Río CuartoAR         0.0      0.000000        0.000000     0.000000  \n",
      "La EsmeraldaVE       0.0   4039.257048        0.000000     0.000000  \n",
      "HödrögöMN            0.0  17665.782528    13975.815791     0.000000  \n",
      "\n",
      "[6622 rows x 6622 columns]\n"
     ]
    }
   ],
   "source": [
    "## forzo \"LondonGB\" ad ovest di \"London_stGB\" - questo andrà risolto\n",
    "#graph.loc['London_stGB']['LondonGB'] = 0\n",
    "print(graph)"
   ]
  },
  {
   "cell_type": "code",
   "execution_count": 25,
   "metadata": {},
   "outputs": [
    {
     "name": "stdout",
     "output_type": "stream",
     "text": [
      "ID                   TokyoJP     JakartaID       DelhiIN      MumbaiIN  \\\n",
      "ID                                                                       \n",
      "TokyoJP             0.000000   5787.903765   5835.248502   6736.368099   \n",
      "JakartaID           0.000000      0.000000   5011.267565   4662.287622   \n",
      "DelhiIN             0.000000      0.000000      0.000000   1166.997459   \n",
      "MumbaiIN            0.000000      0.000000      0.000000      0.000000   \n",
      "ManilaPH            0.000000   2790.717691   4755.337989   5135.012933   \n",
      "...                      ...           ...           ...           ...   \n",
      "GreytownNI      13121.910379  18749.404488  15165.430715  15817.752584   \n",
      "SayḩūtYE            0.000000      0.000000      0.000000      0.000000   \n",
      "Río CuartoAR    17802.441648  15548.072633  16340.953957  15498.485119   \n",
      "La EsmeraldaVE  14963.272212  19112.746377  14699.229652  14845.181740   \n",
      "HödrögöMN           0.000000      0.000000   2805.959689   3965.565663   \n",
      "\n",
      "ID                  ManilaPH    ShanghaiCN  São PauloBR       SeoulKR  \\\n",
      "ID                                                                      \n",
      "TokyoJP          2997.194340   1762.022389          0.0   1151.307887   \n",
      "JakartaID           0.000000      0.000000          0.0      0.000000   \n",
      "DelhiIN             0.000000      0.000000          0.0      0.000000   \n",
      "MumbaiIN            0.000000      0.000000          0.0      0.000000   \n",
      "ManilaPH            0.000000      0.000000          0.0      0.000000   \n",
      "...                      ...           ...          ...           ...   \n",
      "GreytownNI      16090.269529  14624.981545          0.0  13749.352769   \n",
      "SayḩūtYE            0.000000      0.000000          0.0      0.000000   \n",
      "Río CuartoAR    17891.554956  19432.233134          0.0  18879.695225   \n",
      "La EsmeraldaVE  17918.131316  16130.051721          0.0  15306.485745   \n",
      "HödrögöMN           0.000000      0.000000          0.0      0.000000   \n",
      "\n",
      "ID              Mexico CityMX   GuangzhouCN  ...       LinxiCN      RodeoAR  \\\n",
      "ID                                           ...                              \n",
      "TokyoJP              0.000000   2903.800481  ...   2042.104954     0.000000   \n",
      "JakartaID            0.000000      0.000000  ...      0.000000     0.000000   \n",
      "DelhiIN              0.000000      0.000000  ...      0.000000     0.000000   \n",
      "MumbaiIN             0.000000      0.000000  ...      0.000000     0.000000   \n",
      "ManilaPH             0.000000   1248.624550  ...   3229.094756     0.000000   \n",
      "...                       ...           ...  ...           ...          ...   \n",
      "GreytownNI        1906.564347  15808.268798  ...  13578.384232     0.000000   \n",
      "SayḩūtYE             0.000000      0.000000  ...      0.000000     0.000000   \n",
      "Río CuartoAR      6915.216994  18885.313644  ...  18846.857659   557.012514   \n",
      "La EsmeraldaVE    4071.136107  17092.868130  ...  14815.586234  3733.495868   \n",
      "HödrögöMN            0.000000      0.000000  ...      0.000000     0.000000   \n",
      "\n",
      "ID                 GastreAR  TinogastaAR     TelsenAR   GreytownNI  \\\n",
      "ID                                                                   \n",
      "TokyoJP            0.000000     0.000000     0.000000     0.000000   \n",
      "JakartaID          0.000000     0.000000     0.000000     0.000000   \n",
      "DelhiIN            0.000000     0.000000     0.000000     0.000000   \n",
      "MumbaiIN           0.000000     0.000000     0.000000     0.000000   \n",
      "ManilaPH           0.000000     0.000000     0.000000     0.000000   \n",
      "...                     ...          ...          ...          ...   \n",
      "GreytownNI         0.000000     0.000000     0.000000     0.000000   \n",
      "SayḩūtYE           0.000000     0.000000     0.000000     0.000000   \n",
      "Río CuartoAR    1103.133020   641.220957  1054.985097  5310.978147   \n",
      "La EsmeraldaVE  5067.878714  3481.586365  5069.283104  2179.599062   \n",
      "HödrögöMN          0.000000     0.000000     0.000000     0.000000   \n",
      "\n",
      "ID                  SayḩūtYE  Río CuartoAR  La EsmeraldaVE     HödrögöMN  \n",
      "ID                                                                        \n",
      "TokyoJP          8894.127127           0.0        0.000000   3763.889900  \n",
      "JakartaID        6573.440879           0.0        0.000000   6215.368372  \n",
      "DelhiIN          3059.249501           0.0        0.000000      0.000000  \n",
      "MumbaiIN         2331.235749           0.0        0.000000      0.000000  \n",
      "ManilaPH         7460.176624           0.0        0.000000   4413.827801  \n",
      "...                      ...           ...             ...           ...  \n",
      "GreytownNI      14269.835575           0.0        0.000000  13360.413795  \n",
      "SayḩūtYE            0.000000           0.0        0.000000      0.000000  \n",
      "Río CuartoAR    13292.341403           0.0     4039.257048  17665.782528  \n",
      "La EsmeraldaVE  12771.412015           0.0        0.000000  13975.815791  \n",
      "HödrögöMN        5571.045771           0.0        0.000000      0.000000  \n",
      "\n",
      "[6622 rows x 6622 columns]\n"
     ]
    }
   ],
   "source": [
    "## traspongo per lavorare sulle righe\n",
    "graph = graph.T\n",
    "print(graph)"
   ]
  },
  {
   "cell_type": "code",
   "execution_count": 26,
   "metadata": {},
   "outputs": [
    {
     "data": {
      "text/html": [
       "<div>\n",
       "<style scoped>\n",
       "    .dataframe tbody tr th:only-of-type {\n",
       "        vertical-align: middle;\n",
       "    }\n",
       "\n",
       "    .dataframe tbody tr th {\n",
       "        vertical-align: top;\n",
       "    }\n",
       "\n",
       "    .dataframe thead th {\n",
       "        text-align: right;\n",
       "    }\n",
       "</style>\n",
       "<table border=\"1\" class=\"dataframe\">\n",
       "  <thead>\n",
       "    <tr style=\"text-align: right;\">\n",
       "      <th>ID</th>\n",
       "      <th>TokyoJP</th>\n",
       "      <th>JakartaID</th>\n",
       "      <th>DelhiIN</th>\n",
       "      <th>MumbaiIN</th>\n",
       "      <th>ManilaPH</th>\n",
       "      <th>ShanghaiCN</th>\n",
       "      <th>São PauloBR</th>\n",
       "      <th>SeoulKR</th>\n",
       "      <th>Mexico CityMX</th>\n",
       "      <th>GuangzhouCN</th>\n",
       "      <th>...</th>\n",
       "      <th>LinxiCN</th>\n",
       "      <th>RodeoAR</th>\n",
       "      <th>GastreAR</th>\n",
       "      <th>TinogastaAR</th>\n",
       "      <th>TelsenAR</th>\n",
       "      <th>GreytownNI</th>\n",
       "      <th>SayḩūtYE</th>\n",
       "      <th>Río CuartoAR</th>\n",
       "      <th>La EsmeraldaVE</th>\n",
       "      <th>HödrögöMN</th>\n",
       "    </tr>\n",
       "    <tr>\n",
       "      <th>ID</th>\n",
       "      <th></th>\n",
       "      <th></th>\n",
       "      <th></th>\n",
       "      <th></th>\n",
       "      <th></th>\n",
       "      <th></th>\n",
       "      <th></th>\n",
       "      <th></th>\n",
       "      <th></th>\n",
       "      <th></th>\n",
       "      <th></th>\n",
       "      <th></th>\n",
       "      <th></th>\n",
       "      <th></th>\n",
       "      <th></th>\n",
       "      <th></th>\n",
       "      <th></th>\n",
       "      <th></th>\n",
       "      <th></th>\n",
       "      <th></th>\n",
       "      <th></th>\n",
       "    </tr>\n",
       "  </thead>\n",
       "  <tbody>\n",
       "    <tr>\n",
       "      <th>TokyoJP</th>\n",
       "      <td>0.000000</td>\n",
       "      <td>5787.903765</td>\n",
       "      <td>5835.248502</td>\n",
       "      <td>6736.368099</td>\n",
       "      <td>2997.194340</td>\n",
       "      <td>1762.022389</td>\n",
       "      <td>0.0</td>\n",
       "      <td>1151.307887</td>\n",
       "      <td>0.000000</td>\n",
       "      <td>2903.800481</td>\n",
       "      <td>...</td>\n",
       "      <td>2042.104954</td>\n",
       "      <td>0.000000</td>\n",
       "      <td>0.000000</td>\n",
       "      <td>0.000000</td>\n",
       "      <td>0.000000</td>\n",
       "      <td>0.000000</td>\n",
       "      <td>8894.127127</td>\n",
       "      <td>0.0</td>\n",
       "      <td>0.000000</td>\n",
       "      <td>3763.889900</td>\n",
       "    </tr>\n",
       "    <tr>\n",
       "      <th>JakartaID</th>\n",
       "      <td>0.000000</td>\n",
       "      <td>0.000000</td>\n",
       "      <td>5011.267565</td>\n",
       "      <td>4662.287622</td>\n",
       "      <td>0.000000</td>\n",
       "      <td>0.000000</td>\n",
       "      <td>0.0</td>\n",
       "      <td>0.000000</td>\n",
       "      <td>0.000000</td>\n",
       "      <td>0.000000</td>\n",
       "      <td>...</td>\n",
       "      <td>0.000000</td>\n",
       "      <td>0.000000</td>\n",
       "      <td>0.000000</td>\n",
       "      <td>0.000000</td>\n",
       "      <td>0.000000</td>\n",
       "      <td>0.000000</td>\n",
       "      <td>6573.440879</td>\n",
       "      <td>0.0</td>\n",
       "      <td>0.000000</td>\n",
       "      <td>6215.368372</td>\n",
       "    </tr>\n",
       "    <tr>\n",
       "      <th>DelhiIN</th>\n",
       "      <td>0.000000</td>\n",
       "      <td>0.000000</td>\n",
       "      <td>0.000000</td>\n",
       "      <td>1166.997459</td>\n",
       "      <td>0.000000</td>\n",
       "      <td>0.000000</td>\n",
       "      <td>0.0</td>\n",
       "      <td>0.000000</td>\n",
       "      <td>0.000000</td>\n",
       "      <td>0.000000</td>\n",
       "      <td>...</td>\n",
       "      <td>0.000000</td>\n",
       "      <td>0.000000</td>\n",
       "      <td>0.000000</td>\n",
       "      <td>0.000000</td>\n",
       "      <td>0.000000</td>\n",
       "      <td>0.000000</td>\n",
       "      <td>3059.249501</td>\n",
       "      <td>0.0</td>\n",
       "      <td>0.000000</td>\n",
       "      <td>0.000000</td>\n",
       "    </tr>\n",
       "    <tr>\n",
       "      <th>MumbaiIN</th>\n",
       "      <td>0.000000</td>\n",
       "      <td>0.000000</td>\n",
       "      <td>0.000000</td>\n",
       "      <td>0.000000</td>\n",
       "      <td>0.000000</td>\n",
       "      <td>0.000000</td>\n",
       "      <td>0.0</td>\n",
       "      <td>0.000000</td>\n",
       "      <td>0.000000</td>\n",
       "      <td>0.000000</td>\n",
       "      <td>...</td>\n",
       "      <td>0.000000</td>\n",
       "      <td>0.000000</td>\n",
       "      <td>0.000000</td>\n",
       "      <td>0.000000</td>\n",
       "      <td>0.000000</td>\n",
       "      <td>0.000000</td>\n",
       "      <td>2331.235749</td>\n",
       "      <td>0.0</td>\n",
       "      <td>0.000000</td>\n",
       "      <td>0.000000</td>\n",
       "    </tr>\n",
       "    <tr>\n",
       "      <th>ManilaPH</th>\n",
       "      <td>0.000000</td>\n",
       "      <td>2790.717691</td>\n",
       "      <td>4755.337989</td>\n",
       "      <td>5135.012933</td>\n",
       "      <td>0.000000</td>\n",
       "      <td>0.000000</td>\n",
       "      <td>0.0</td>\n",
       "      <td>0.000000</td>\n",
       "      <td>0.000000</td>\n",
       "      <td>1248.624550</td>\n",
       "      <td>...</td>\n",
       "      <td>3229.094756</td>\n",
       "      <td>0.000000</td>\n",
       "      <td>0.000000</td>\n",
       "      <td>0.000000</td>\n",
       "      <td>0.000000</td>\n",
       "      <td>0.000000</td>\n",
       "      <td>7460.176624</td>\n",
       "      <td>0.0</td>\n",
       "      <td>0.000000</td>\n",
       "      <td>4413.827801</td>\n",
       "    </tr>\n",
       "    <tr>\n",
       "      <th>...</th>\n",
       "      <td>...</td>\n",
       "      <td>...</td>\n",
       "      <td>...</td>\n",
       "      <td>...</td>\n",
       "      <td>...</td>\n",
       "      <td>...</td>\n",
       "      <td>...</td>\n",
       "      <td>...</td>\n",
       "      <td>...</td>\n",
       "      <td>...</td>\n",
       "      <td>...</td>\n",
       "      <td>...</td>\n",
       "      <td>...</td>\n",
       "      <td>...</td>\n",
       "      <td>...</td>\n",
       "      <td>...</td>\n",
       "      <td>...</td>\n",
       "      <td>...</td>\n",
       "      <td>...</td>\n",
       "      <td>...</td>\n",
       "      <td>...</td>\n",
       "    </tr>\n",
       "    <tr>\n",
       "      <th>GreytownNI</th>\n",
       "      <td>13121.910379</td>\n",
       "      <td>18749.404488</td>\n",
       "      <td>15165.430715</td>\n",
       "      <td>15817.752584</td>\n",
       "      <td>16090.269529</td>\n",
       "      <td>14624.981545</td>\n",
       "      <td>0.0</td>\n",
       "      <td>13749.352769</td>\n",
       "      <td>1906.564347</td>\n",
       "      <td>15808.268798</td>\n",
       "      <td>...</td>\n",
       "      <td>13578.384232</td>\n",
       "      <td>0.000000</td>\n",
       "      <td>0.000000</td>\n",
       "      <td>0.000000</td>\n",
       "      <td>0.000000</td>\n",
       "      <td>0.000000</td>\n",
       "      <td>14269.835575</td>\n",
       "      <td>0.0</td>\n",
       "      <td>0.000000</td>\n",
       "      <td>13360.413795</td>\n",
       "    </tr>\n",
       "    <tr>\n",
       "      <th>SayḩūtYE</th>\n",
       "      <td>0.000000</td>\n",
       "      <td>0.000000</td>\n",
       "      <td>0.000000</td>\n",
       "      <td>0.000000</td>\n",
       "      <td>0.000000</td>\n",
       "      <td>0.000000</td>\n",
       "      <td>0.0</td>\n",
       "      <td>0.000000</td>\n",
       "      <td>0.000000</td>\n",
       "      <td>0.000000</td>\n",
       "      <td>...</td>\n",
       "      <td>0.000000</td>\n",
       "      <td>0.000000</td>\n",
       "      <td>0.000000</td>\n",
       "      <td>0.000000</td>\n",
       "      <td>0.000000</td>\n",
       "      <td>0.000000</td>\n",
       "      <td>0.000000</td>\n",
       "      <td>0.0</td>\n",
       "      <td>0.000000</td>\n",
       "      <td>0.000000</td>\n",
       "    </tr>\n",
       "    <tr>\n",
       "      <th>Río CuartoAR</th>\n",
       "      <td>17802.441648</td>\n",
       "      <td>15548.072633</td>\n",
       "      <td>16340.953957</td>\n",
       "      <td>15498.485119</td>\n",
       "      <td>17891.554956</td>\n",
       "      <td>19432.233134</td>\n",
       "      <td>0.0</td>\n",
       "      <td>18879.695225</td>\n",
       "      <td>6915.216994</td>\n",
       "      <td>18885.313644</td>\n",
       "      <td>...</td>\n",
       "      <td>18846.857659</td>\n",
       "      <td>557.012514</td>\n",
       "      <td>1103.133020</td>\n",
       "      <td>641.220957</td>\n",
       "      <td>1054.985097</td>\n",
       "      <td>5310.978147</td>\n",
       "      <td>13292.341403</td>\n",
       "      <td>0.0</td>\n",
       "      <td>4039.257048</td>\n",
       "      <td>17665.782528</td>\n",
       "    </tr>\n",
       "    <tr>\n",
       "      <th>La EsmeraldaVE</th>\n",
       "      <td>14963.272212</td>\n",
       "      <td>19112.746377</td>\n",
       "      <td>14699.229652</td>\n",
       "      <td>14845.181740</td>\n",
       "      <td>17918.131316</td>\n",
       "      <td>16130.051721</td>\n",
       "      <td>0.0</td>\n",
       "      <td>15306.485745</td>\n",
       "      <td>4071.136107</td>\n",
       "      <td>17092.868130</td>\n",
       "      <td>...</td>\n",
       "      <td>14815.586234</td>\n",
       "      <td>3733.495868</td>\n",
       "      <td>5067.878714</td>\n",
       "      <td>3481.586365</td>\n",
       "      <td>5069.283104</td>\n",
       "      <td>2179.599062</td>\n",
       "      <td>12771.412015</td>\n",
       "      <td>0.0</td>\n",
       "      <td>0.000000</td>\n",
       "      <td>13975.815791</td>\n",
       "    </tr>\n",
       "    <tr>\n",
       "      <th>HödrögöMN</th>\n",
       "      <td>0.000000</td>\n",
       "      <td>0.000000</td>\n",
       "      <td>2805.959689</td>\n",
       "      <td>3965.565663</td>\n",
       "      <td>0.000000</td>\n",
       "      <td>0.000000</td>\n",
       "      <td>0.0</td>\n",
       "      <td>0.000000</td>\n",
       "      <td>0.000000</td>\n",
       "      <td>0.000000</td>\n",
       "      <td>...</td>\n",
       "      <td>0.000000</td>\n",
       "      <td>0.000000</td>\n",
       "      <td>0.000000</td>\n",
       "      <td>0.000000</td>\n",
       "      <td>0.000000</td>\n",
       "      <td>0.000000</td>\n",
       "      <td>5571.045771</td>\n",
       "      <td>0.0</td>\n",
       "      <td>0.000000</td>\n",
       "      <td>0.000000</td>\n",
       "    </tr>\n",
       "  </tbody>\n",
       "</table>\n",
       "<p>6622 rows × 6622 columns</p>\n",
       "</div>"
      ],
      "text/plain": [
       "ID                   TokyoJP     JakartaID       DelhiIN      MumbaiIN  \\\n",
       "ID                                                                       \n",
       "TokyoJP             0.000000   5787.903765   5835.248502   6736.368099   \n",
       "JakartaID           0.000000      0.000000   5011.267565   4662.287622   \n",
       "DelhiIN             0.000000      0.000000      0.000000   1166.997459   \n",
       "MumbaiIN            0.000000      0.000000      0.000000      0.000000   \n",
       "ManilaPH            0.000000   2790.717691   4755.337989   5135.012933   \n",
       "...                      ...           ...           ...           ...   \n",
       "GreytownNI      13121.910379  18749.404488  15165.430715  15817.752584   \n",
       "SayḩūtYE            0.000000      0.000000      0.000000      0.000000   \n",
       "Río CuartoAR    17802.441648  15548.072633  16340.953957  15498.485119   \n",
       "La EsmeraldaVE  14963.272212  19112.746377  14699.229652  14845.181740   \n",
       "HödrögöMN           0.000000      0.000000   2805.959689   3965.565663   \n",
       "\n",
       "ID                  ManilaPH    ShanghaiCN  São PauloBR       SeoulKR  \\\n",
       "ID                                                                      \n",
       "TokyoJP          2997.194340   1762.022389          0.0   1151.307887   \n",
       "JakartaID           0.000000      0.000000          0.0      0.000000   \n",
       "DelhiIN             0.000000      0.000000          0.0      0.000000   \n",
       "MumbaiIN            0.000000      0.000000          0.0      0.000000   \n",
       "ManilaPH            0.000000      0.000000          0.0      0.000000   \n",
       "...                      ...           ...          ...           ...   \n",
       "GreytownNI      16090.269529  14624.981545          0.0  13749.352769   \n",
       "SayḩūtYE            0.000000      0.000000          0.0      0.000000   \n",
       "Río CuartoAR    17891.554956  19432.233134          0.0  18879.695225   \n",
       "La EsmeraldaVE  17918.131316  16130.051721          0.0  15306.485745   \n",
       "HödrögöMN           0.000000      0.000000          0.0      0.000000   \n",
       "\n",
       "ID              Mexico CityMX   GuangzhouCN  ...       LinxiCN      RodeoAR  \\\n",
       "ID                                           ...                              \n",
       "TokyoJP              0.000000   2903.800481  ...   2042.104954     0.000000   \n",
       "JakartaID            0.000000      0.000000  ...      0.000000     0.000000   \n",
       "DelhiIN              0.000000      0.000000  ...      0.000000     0.000000   \n",
       "MumbaiIN             0.000000      0.000000  ...      0.000000     0.000000   \n",
       "ManilaPH             0.000000   1248.624550  ...   3229.094756     0.000000   \n",
       "...                       ...           ...  ...           ...          ...   \n",
       "GreytownNI        1906.564347  15808.268798  ...  13578.384232     0.000000   \n",
       "SayḩūtYE             0.000000      0.000000  ...      0.000000     0.000000   \n",
       "Río CuartoAR      6915.216994  18885.313644  ...  18846.857659   557.012514   \n",
       "La EsmeraldaVE    4071.136107  17092.868130  ...  14815.586234  3733.495868   \n",
       "HödrögöMN            0.000000      0.000000  ...      0.000000     0.000000   \n",
       "\n",
       "ID                 GastreAR  TinogastaAR     TelsenAR   GreytownNI  \\\n",
       "ID                                                                   \n",
       "TokyoJP            0.000000     0.000000     0.000000     0.000000   \n",
       "JakartaID          0.000000     0.000000     0.000000     0.000000   \n",
       "DelhiIN            0.000000     0.000000     0.000000     0.000000   \n",
       "MumbaiIN           0.000000     0.000000     0.000000     0.000000   \n",
       "ManilaPH           0.000000     0.000000     0.000000     0.000000   \n",
       "...                     ...          ...          ...          ...   \n",
       "GreytownNI         0.000000     0.000000     0.000000     0.000000   \n",
       "SayḩūtYE           0.000000     0.000000     0.000000     0.000000   \n",
       "Río CuartoAR    1103.133020   641.220957  1054.985097  5310.978147   \n",
       "La EsmeraldaVE  5067.878714  3481.586365  5069.283104  2179.599062   \n",
       "HödrögöMN          0.000000     0.000000     0.000000     0.000000   \n",
       "\n",
       "ID                  SayḩūtYE  Río CuartoAR  La EsmeraldaVE     HödrögöMN  \n",
       "ID                                                                        \n",
       "TokyoJP          8894.127127           0.0        0.000000   3763.889900  \n",
       "JakartaID        6573.440879           0.0        0.000000   6215.368372  \n",
       "DelhiIN          3059.249501           0.0        0.000000      0.000000  \n",
       "MumbaiIN         2331.235749           0.0        0.000000      0.000000  \n",
       "ManilaPH         7460.176624           0.0        0.000000   4413.827801  \n",
       "...                      ...           ...             ...           ...  \n",
       "GreytownNI      14269.835575           0.0        0.000000  13360.413795  \n",
       "SayḩūtYE            0.000000           0.0        0.000000      0.000000  \n",
       "Río CuartoAR    13292.341403           0.0     4039.257048  17665.782528  \n",
       "La EsmeraldaVE  12771.412015           0.0        0.000000  13975.815791  \n",
       "HödrögöMN        5571.045771           0.0        0.000000      0.000000  \n",
       "\n",
       "[6622 rows x 6622 columns]"
      ]
     },
     "execution_count": 26,
     "metadata": {},
     "output_type": "execute_result"
    }
   ],
   "source": [
    "dis = graph.replace(0, 0)\n",
    "dis"
   ]
  },
  {
   "cell_type": "code",
   "execution_count": 29,
   "metadata": {},
   "outputs": [],
   "source": [
    "from pandas import DataFrame\n",
    "from tqdm import tqdm"
   ]
  },
  {
   "cell_type": "code",
   "execution_count": null,
   "metadata": {},
   "outputs": [],
   "source": [
    "tqdm.pandas()"
   ]
  },
  {
   "cell_type": "code",
   "execution_count": 30,
   "metadata": {},
   "outputs": [],
   "source": [
    "## popolare per criteri (più vicino +2, secondo più vicino +4, terzo più vicino +8, il resto 'no go')\n",
    "dis = graph.replace(0, 0)"
   ]
  },
  {
   "cell_type": "code",
   "execution_count": null,
   "metadata": {},
   "outputs": [],
   "source": [
    "dis = distance.T.replace(0, 0)"
   ]
  },
  {
   "cell_type": "code",
   "execution_count": null,
   "metadata": {},
   "outputs": [],
   "source": [
    "dis = dis.replace(dis.progress_apply(lambda x: x[x > 0].min(axis=0)), 2)"
   ]
  },
  {
   "cell_type": "code",
   "execution_count": null,
   "metadata": {},
   "outputs": [],
   "source": [
    "dis = dis.replace(dis.progress_apply(lambda x: x[x > 0].min(axis=0)), 4)"
   ]
  },
  {
   "cell_type": "code",
   "execution_count": null,
   "metadata": {},
   "outputs": [],
   "source": [
    "dis = dis.replace(dis.progress_apply(lambda x: x[x > 0].min(axis=0)), 8)"
   ]
  },
  {
   "cell_type": "code",
   "execution_count": null,
   "metadata": {},
   "outputs": [],
   "source": [
    "#parte messa solo perchè l'utima riga sopra non mi va \n",
    "dis = dis.where((dis <= 8), 0) \n",
    "dis"
   ]
  },
  {
   "cell_type": "code",
   "execution_count": null,
   "metadata": {},
   "outputs": [],
   "source": [
    "print(dis)"
   ]
  },
  {
   "cell_type": "code",
   "execution_count": null,
   "metadata": {},
   "outputs": [],
   "source": []
  },
  {
   "cell_type": "code",
   "execution_count": null,
   "metadata": {},
   "outputs": [],
   "source": [
    "for i in dis :\n",
    "    graph[i] = (dis[i] + same_state[i] + pop) * dis[i] / dis[i]\n",
    "    \n",
    "graph"
   ]
  },
  {
   "cell_type": "code",
   "execution_count": null,
   "metadata": {},
   "outputs": [],
   "source": [
    "print(graph)"
   ]
  },
  {
   "cell_type": "code",
   "execution_count": null,
   "metadata": {},
   "outputs": [],
   "source": [
    "# parte messa solo perchè l'utima riga sopra non mi va \n",
    "graph = graph.where((graph > 1), 0) \n",
    "graph = graph.T # dataframe (la trasposta è per mettere i pesi sulle righe o sulle colonne)"
   ]
  },
  {
   "cell_type": "code",
   "execution_count": null,
   "metadata": {},
   "outputs": [],
   "source": [
    "## un tentativo con networkX (mi prende il peso minore però----)\n",
    "\n",
    "import networkx as nx"
   ]
  },
  {
   "cell_type": "code",
   "execution_count": null,
   "metadata": {},
   "outputs": [],
   "source": [
    "## creo grafo con networkX direzionato da graph cheè matrice di adiacenza non simmetrica\n",
    "D = nx.from_pandas_adjacency(graph, create_using = nx.DiGraph)"
   ]
  },
  {
   "cell_type": "code",
   "execution_count": null,
   "metadata": {},
   "outputs": [],
   "source": [
    "## visualizzo i nodi\n",
    "D.nodes()"
   ]
  },
  {
   "cell_type": "code",
   "execution_count": null,
   "metadata": {},
   "outputs": [],
   "source": [
    "## link all'algoritmo usato\n",
    "## https://networkx.org/documentation/stable/reference/algorithms/generated/networkx.algorithms.shortest_paths.weighted.single_source_dijkstra.html#networkx.algorithms.shortest_paths.weighted.single_source_dijkstra\n",
    "length, path = nx.single_source_dijkstra(D, source = 'LondonGB', target = 'LondonGB')\n",
    "print(length)\n",
    "print(path)"
   ]
  },
  {
   "cell_type": "code",
   "execution_count": null,
   "metadata": {},
   "outputs": [],
   "source": [
    "## visualizzo D grafo direzionato\n",
    "nx.draw(D)"
   ]
  },
  {
   "cell_type": "code",
   "execution_count": null,
   "metadata": {},
   "outputs": [],
   "source": [
    "## se vogliamo altri formati\n",
    "## gr_array = np.array(graph) ## array\n"
   ]
  },
  {
   "cell_type": "code",
   "execution_count": null,
   "metadata": {},
   "outputs": [],
   "source": [
    "## list\n",
    "## gr_ls = gr_array.tolist()\n",
    "## print(gr_ls)"
   ]
  },
  {
   "cell_type": "code",
   "execution_count": null,
   "metadata": {},
   "outputs": [],
   "source": [
    "## type(gr_ls)"
   ]
  },
  {
   "cell_type": "code",
   "execution_count": null,
   "metadata": {},
   "outputs": [],
   "source": [
    "# GR = nx.from_numpy_array(gr_array)\n",
    "# GR.edges(data=True)"
   ]
  },
  {
   "cell_type": "code",
   "execution_count": null,
   "metadata": {},
   "outputs": [],
   "source": [
    "## GR.nodes()"
   ]
  },
  {
   "cell_type": "code",
   "execution_count": null,
   "metadata": {},
   "outputs": [],
   "source": [
    "## nx.shortest_path(GR, source = 0, target = 271)"
   ]
  }
 ],
 "metadata": {
  "kernelspec": {
   "display_name": "Python 3",
   "language": "python",
   "name": "python3"
  },
  "language_info": {
   "codemirror_mode": {
    "name": "ipython",
    "version": 3
   },
   "file_extension": ".py",
   "mimetype": "text/x-python",
   "name": "python",
   "nbconvert_exporter": "python",
   "pygments_lexer": "ipython3",
   "version": "3.8.3"
  }
 },
 "nbformat": 4,
 "nbformat_minor": 4
}
